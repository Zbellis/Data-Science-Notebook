{
 "cells": [
  {
   "cell_type": "markdown",
   "id": "2e54a90e",
   "metadata": {},
   "source": [
    "# Import Libraries"
   ]
  },
  {
   "cell_type": "code",
   "execution_count": 19,
   "id": "1491b6f3",
   "metadata": {},
   "outputs": [
    {
     "data": {
      "text/plain": [
       "'/Users/zacharyellis/Documents'"
      ]
     },
     "execution_count": 19,
     "metadata": {},
     "output_type": "execute_result"
    }
   ],
   "source": [
    "%matplotlib inline\n",
    "\n",
    "import matplotlib.pyplot as plt\n",
    "import numpy as np\n",
    "import openpyxl\n",
    "import os\n",
    "\n",
    "import pandas as pd\n",
    "import seaborn as sns\n",
    "from sklearn.linear_model import LinearRegression\n",
    "\n",
    "os.getcwd()\n",
    "#os.chdir('Documents/')"
   ]
  },
  {
   "cell_type": "markdown",
   "id": "4cc397f3",
   "metadata": {},
   "source": [
    "# Cleaning and Filtering Data"
   ]
  },
  {
   "cell_type": "code",
   "execution_count": null,
   "id": "3ef237bb",
   "metadata": {},
   "outputs": [],
   "source": [
    "# load activities from Strava\n",
    "run_report = 'run_report.xlsx'\n",
    "df = pd.read_excel(run_report)\n",
    "\n",
    "# del any unneeded cols\n",
    "df = df.drop(columns=['moving_time', 'Pace (2)', 'Pace (3)', 'Pace (4)', 'Unnamed: 11'])\n",
    "\n",
    "# Main DF is filtered by date\n",
    "df['start_date'] = pd.to_datetime(df['start_date'])\n",
    "df = df.sort_values(by='start_date',ascending=False)\n",
    "\n",
    "# apply filter to only see races\n",
    "race_filter = df['isRace']=='Yes'\n",
    "df_all_races = df[race_filter]\n",
    "df_race_2021 = df_all_races[:4]\n",
    "df_race_2020 = df_all_races[4:8]\n",
    "df_race_2019 = df_all_races[8:]\n",
    "\n",
    "# apply filter to only see training\n",
    "training_filter = df['isRace']=='No'\n",
    "df_all_training = df[training_filter]"
   ]
  },
  {
   "cell_type": "code",
   "execution_count": 29,
   "id": "b9753ad8",
   "metadata": {},
   "outputs": [
    {
     "data": {
      "text/html": [
       "<div>\n",
       "<style scoped>\n",
       "    .dataframe tbody tr th:only-of-type {\n",
       "        vertical-align: middle;\n",
       "    }\n",
       "\n",
       "    .dataframe tbody tr th {\n",
       "        vertical-align: top;\n",
       "    }\n",
       "\n",
       "    .dataframe thead th {\n",
       "        text-align: right;\n",
       "    }\n",
       "</style>\n",
       "<table border=\"1\" class=\"dataframe\">\n",
       "  <thead>\n",
       "    <tr style=\"text-align: right;\">\n",
       "      <th></th>\n",
       "      <th>id</th>\n",
       "      <th>start_date</th>\n",
       "      <th>distance</th>\n",
       "      <th>isRace</th>\n",
       "      <th>Pace</th>\n",
       "      <th>Pace Time</th>\n",
       "      <th>activity_url</th>\n",
       "    </tr>\n",
       "  </thead>\n",
       "  <tbody>\n",
       "    <tr>\n",
       "      <th>283</th>\n",
       "      <td>6.621650e+09</td>\n",
       "      <td>2022-02-02</td>\n",
       "      <td>0.70</td>\n",
       "      <td>No</td>\n",
       "      <td>10.183333</td>\n",
       "      <td>10.11</td>\n",
       "      <td>https://www.strava.com/activities/6621649664</td>\n",
       "    </tr>\n",
       "    <tr>\n",
       "      <th>119</th>\n",
       "      <td>6.621650e+09</td>\n",
       "      <td>2022-02-02</td>\n",
       "      <td>2.84</td>\n",
       "      <td>No</td>\n",
       "      <td>7.133333</td>\n",
       "      <td>7.08</td>\n",
       "      <td>https://www.strava.com/activities/6621649811</td>\n",
       "    </tr>\n",
       "    <tr>\n",
       "      <th>188</th>\n",
       "      <td>6.594420e+09</td>\n",
       "      <td>2022-01-28</td>\n",
       "      <td>1.57</td>\n",
       "      <td>No</td>\n",
       "      <td>7.266667</td>\n",
       "      <td>7.16</td>\n",
       "      <td>https://www.strava.com/activities/6594420094</td>\n",
       "    </tr>\n",
       "    <tr>\n",
       "      <th>56</th>\n",
       "      <td>6.586049e+09</td>\n",
       "      <td>2022-01-26</td>\n",
       "      <td>4.26</td>\n",
       "      <td>No</td>\n",
       "      <td>6.950000</td>\n",
       "      <td>6.57</td>\n",
       "      <td>https://www.strava.com/activities/6586048823</td>\n",
       "    </tr>\n",
       "    <tr>\n",
       "      <th>196</th>\n",
       "      <td>6.579233e+09</td>\n",
       "      <td>2022-01-25</td>\n",
       "      <td>1.40</td>\n",
       "      <td>No</td>\n",
       "      <td>8.250000</td>\n",
       "      <td>8.15</td>\n",
       "      <td>https://www.strava.com/activities/6579232521</td>\n",
       "    </tr>\n",
       "    <tr>\n",
       "      <th>...</th>\n",
       "      <td>...</td>\n",
       "      <td>...</td>\n",
       "      <td>...</td>\n",
       "      <td>...</td>\n",
       "      <td>...</td>\n",
       "      <td>...</td>\n",
       "      <td>...</td>\n",
       "    </tr>\n",
       "    <tr>\n",
       "      <th>139</th>\n",
       "      <td>2.652800e+09</td>\n",
       "      <td>2019-08-26</td>\n",
       "      <td>2.32</td>\n",
       "      <td>No</td>\n",
       "      <td>7.383333</td>\n",
       "      <td>7.23</td>\n",
       "      <td>https://www.strava.com/activities/2652800221</td>\n",
       "    </tr>\n",
       "    <tr>\n",
       "      <th>9</th>\n",
       "      <td>6.628180e+09</td>\n",
       "      <td>2019-03-12</td>\n",
       "      <td>13.10</td>\n",
       "      <td>Yes</td>\n",
       "      <td>9.150000</td>\n",
       "      <td>9.09</td>\n",
       "      <td>https://www.strava.com/activities/6628179510</td>\n",
       "    </tr>\n",
       "    <tr>\n",
       "      <th>13</th>\n",
       "      <td>6.628172e+09</td>\n",
       "      <td>2019-02-19</td>\n",
       "      <td>9.32</td>\n",
       "      <td>Yes</td>\n",
       "      <td>7.633333</td>\n",
       "      <td>7.38</td>\n",
       "      <td>https://www.strava.com/activities/6628172474</td>\n",
       "    </tr>\n",
       "    <tr>\n",
       "      <th>31</th>\n",
       "      <td>6.628159e+09</td>\n",
       "      <td>2019-02-02</td>\n",
       "      <td>6.20</td>\n",
       "      <td>Yes</td>\n",
       "      <td>7.000000</td>\n",
       "      <td>7.00</td>\n",
       "      <td>https://www.strava.com/activities/6628158609</td>\n",
       "    </tr>\n",
       "    <tr>\n",
       "      <th>100</th>\n",
       "      <td>6.628121e+09</td>\n",
       "      <td>2019-01-19</td>\n",
       "      <td>3.11</td>\n",
       "      <td>Yes</td>\n",
       "      <td>6.566667</td>\n",
       "      <td>6.34</td>\n",
       "      <td>https://www.strava.com/activities/6628120731</td>\n",
       "    </tr>\n",
       "  </tbody>\n",
       "</table>\n",
       "<p>311 rows × 7 columns</p>\n",
       "</div>"
      ],
      "text/plain": [
       "               id start_date  distance isRace       Pace  Pace Time  \\\n",
       "283  6.621650e+09 2022-02-02      0.70     No  10.183333      10.11   \n",
       "119  6.621650e+09 2022-02-02      2.84     No   7.133333       7.08   \n",
       "188  6.594420e+09 2022-01-28      1.57     No   7.266667       7.16   \n",
       "56   6.586049e+09 2022-01-26      4.26     No   6.950000       6.57   \n",
       "196  6.579233e+09 2022-01-25      1.40     No   8.250000       8.15   \n",
       "..            ...        ...       ...    ...        ...        ...   \n",
       "139  2.652800e+09 2019-08-26      2.32     No   7.383333       7.23   \n",
       "9    6.628180e+09 2019-03-12     13.10    Yes   9.150000       9.09   \n",
       "13   6.628172e+09 2019-02-19      9.32    Yes   7.633333       7.38   \n",
       "31   6.628159e+09 2019-02-02      6.20    Yes   7.000000       7.00   \n",
       "100  6.628121e+09 2019-01-19      3.11    Yes   6.566667       6.34   \n",
       "\n",
       "                                     activity_url  \n",
       "283  https://www.strava.com/activities/6621649664  \n",
       "119  https://www.strava.com/activities/6621649811  \n",
       "188  https://www.strava.com/activities/6594420094  \n",
       "56   https://www.strava.com/activities/6586048823  \n",
       "196  https://www.strava.com/activities/6579232521  \n",
       "..                                            ...  \n",
       "139  https://www.strava.com/activities/2652800221  \n",
       "9    https://www.strava.com/activities/6628179510  \n",
       "13   https://www.strava.com/activities/6628172474  \n",
       "31   https://www.strava.com/activities/6628158609  \n",
       "100  https://www.strava.com/activities/6628120731  \n",
       "\n",
       "[311 rows x 7 columns]"
      ]
     },
     "execution_count": 29,
     "metadata": {},
     "output_type": "execute_result"
    }
   ],
   "source": [
    "df"
   ]
  },
  {
   "cell_type": "markdown",
   "id": "c7fc72f5",
   "metadata": {},
   "source": [
    "# 2019 Training"
   ]
  },
  {
   "cell_type": "code",
   "execution_count": null,
   "id": "2479e413",
   "metadata": {},
   "outputs": [],
   "source": []
  },
  {
   "cell_type": "code",
   "execution_count": null,
   "id": "ce0fc0da",
   "metadata": {},
   "outputs": [],
   "source": []
  },
  {
   "cell_type": "code",
   "execution_count": null,
   "id": "a4c9dd2e",
   "metadata": {},
   "outputs": [],
   "source": []
  },
  {
   "cell_type": "code",
   "execution_count": null,
   "id": "26f7e1ae",
   "metadata": {},
   "outputs": [],
   "source": []
  },
  {
   "cell_type": "code",
   "execution_count": null,
   "id": "6964b4f5",
   "metadata": {},
   "outputs": [],
   "source": []
  },
  {
   "cell_type": "markdown",
   "id": "9dd83048",
   "metadata": {},
   "source": [
    "# 2019 Races"
   ]
  },
  {
   "cell_type": "code",
   "execution_count": null,
   "id": "079afcdc",
   "metadata": {},
   "outputs": [],
   "source": []
  },
  {
   "cell_type": "code",
   "execution_count": null,
   "id": "fbbd2ef7",
   "metadata": {},
   "outputs": [],
   "source": []
  },
  {
   "cell_type": "code",
   "execution_count": null,
   "id": "9c2be416",
   "metadata": {},
   "outputs": [],
   "source": []
  },
  {
   "cell_type": "code",
   "execution_count": null,
   "id": "8a658353",
   "metadata": {},
   "outputs": [],
   "source": []
  },
  {
   "cell_type": "code",
   "execution_count": null,
   "id": "1f9c6fd7",
   "metadata": {},
   "outputs": [],
   "source": []
  },
  {
   "cell_type": "markdown",
   "id": "e023710e",
   "metadata": {},
   "source": [
    "# 2020 Training"
   ]
  },
  {
   "cell_type": "code",
   "execution_count": null,
   "id": "1fdc881f",
   "metadata": {},
   "outputs": [],
   "source": []
  },
  {
   "cell_type": "code",
   "execution_count": null,
   "id": "9b0eb388",
   "metadata": {},
   "outputs": [],
   "source": []
  },
  {
   "cell_type": "code",
   "execution_count": null,
   "id": "d4edb6c4",
   "metadata": {},
   "outputs": [],
   "source": []
  },
  {
   "cell_type": "code",
   "execution_count": null,
   "id": "ae474b0a",
   "metadata": {},
   "outputs": [],
   "source": []
  },
  {
   "cell_type": "code",
   "execution_count": null,
   "id": "36bb74f5",
   "metadata": {},
   "outputs": [],
   "source": []
  },
  {
   "cell_type": "markdown",
   "id": "71efa2c1",
   "metadata": {},
   "source": [
    "# 2020 Races"
   ]
  },
  {
   "cell_type": "code",
   "execution_count": null,
   "id": "46420bcf",
   "metadata": {},
   "outputs": [],
   "source": []
  },
  {
   "cell_type": "code",
   "execution_count": null,
   "id": "a5a41cb9",
   "metadata": {},
   "outputs": [],
   "source": []
  },
  {
   "cell_type": "code",
   "execution_count": null,
   "id": "2caba343",
   "metadata": {},
   "outputs": [],
   "source": []
  },
  {
   "cell_type": "code",
   "execution_count": null,
   "id": "0acf2aa2",
   "metadata": {},
   "outputs": [],
   "source": []
  },
  {
   "cell_type": "code",
   "execution_count": null,
   "id": "af910e8e",
   "metadata": {},
   "outputs": [],
   "source": []
  },
  {
   "cell_type": "markdown",
   "id": "8c41e5e1",
   "metadata": {},
   "source": [
    "# 2021 Training/Races"
   ]
  },
  {
   "cell_type": "code",
   "execution_count": null,
   "id": "a32958b9",
   "metadata": {},
   "outputs": [],
   "source": []
  },
  {
   "cell_type": "code",
   "execution_count": null,
   "id": "8d2fbd92",
   "metadata": {},
   "outputs": [],
   "source": []
  },
  {
   "cell_type": "code",
   "execution_count": null,
   "id": "8cdec8b8",
   "metadata": {},
   "outputs": [],
   "source": []
  },
  {
   "cell_type": "code",
   "execution_count": null,
   "id": "034ae595",
   "metadata": {},
   "outputs": [],
   "source": []
  },
  {
   "cell_type": "code",
   "execution_count": null,
   "id": "4f78c9cb",
   "metadata": {},
   "outputs": [],
   "source": []
  },
  {
   "cell_type": "code",
   "execution_count": null,
   "id": "9e93d425",
   "metadata": {},
   "outputs": [],
   "source": []
  },
  {
   "cell_type": "code",
   "execution_count": null,
   "id": "98c2a810",
   "metadata": {},
   "outputs": [],
   "source": []
  },
  {
   "cell_type": "code",
   "execution_count": null,
   "id": "5640b62b",
   "metadata": {},
   "outputs": [],
   "source": []
  },
  {
   "cell_type": "markdown",
   "id": "cda22d1c",
   "metadata": {},
   "source": [
    "# 2022: Predictions"
   ]
  },
  {
   "cell_type": "markdown",
   "id": "887ccd49",
   "metadata": {},
   "source": [
    "# Plot All Races"
   ]
  },
  {
   "cell_type": "code",
   "execution_count": 21,
   "id": "f65d879c",
   "metadata": {},
   "outputs": [],
   "source": [
    "def race_2021():\n",
    "    x = df_race_2021.loc[:, 'distance'].values\n",
    "    y = df_race_2021.loc[: , 'Pace'].values\n",
    "    plt.scatter(x, y, c='k')\n",
    "    \n",
    "def race_2020():\n",
    "    x = df_race_2020.loc[:, 'distance'].values\n",
    "    y = df_race_2020.loc[: , 'Pace'].values\n",
    "    plt.scatter(x, y, c='k')\n",
    "    \n",
    "def race_2019():\n",
    "    x = df_race_2019.loc[:, 'distance'].values\n",
    "    y = df_race_2019.loc[: , 'Pace'].values\n",
    "    plt.scatter(x, y, c='k')"
   ]
  },
  {
   "cell_type": "code",
   "execution_count": 22,
   "id": "1b078a4c",
   "metadata": {},
   "outputs": [],
   "source": [
    "def plot_all_races():\n",
    "    race_2021()\n",
    "    race_2020()\n",
    "    race_2019()\n",
    "\n",
    "    # format graph\n",
    "    plt.title('All Races')\n",
    "    plt.xlim(2.5, 51)\n",
    "    plt.ylim(5, 13.8)\n",
    "    plt.gca().invert_yaxis()\n",
    "\n",
    "    plt.xlabel('Distance (mi)')\n",
    "    plt.ylabel('Minutes per Mile')\n",
    "    # plt.legend(loc=\"upper right\")"
   ]
  },
  {
   "cell_type": "code",
   "execution_count": 23,
   "id": "97367335",
   "metadata": {},
   "outputs": [
    {
     "data": {
      "image/png": "[encoded data removed]",
      "text/plain": [
       "<Figure size 432x288 with 1 Axes>"
      ]
     },
     "metadata": {
      "needs_background": "light"
     },
     "output_type": "display_data"
    }
   ],
   "source": [
    "plot_all_races()"
   ]
  },
  {
   "cell_type": "markdown",
   "id": "5dcc62a2",
   "metadata": {},
   "source": [
    "# Regression"
   ]
  },
  {
   "cell_type": "code",
   "execution_count": 24,
   "id": "cee475f8",
   "metadata": {},
   "outputs": [
    {
     "data": {
      "image/png": "[encoded data removed]",
      "text/plain": [
       "<Figure size 432x288 with 1 Axes>"
      ]
     },
     "metadata": {
      "needs_background": "light"
     },
     "output_type": "display_data"
    }
   ],
   "source": [
    "# all races\n",
    "x = np.array([3.1,\n",
    "              9.6,\n",
    "              26.2]).reshape((-1, 1))\n",
    "\n",
    "\n",
    "y = np.array([5.98,\n",
    "              6.8,\n",
    "              8.6])\n",
    "\n",
    "\n",
    "model = LinearRegression().fit(x, y)\n",
    "\n",
    "# print('coefficient of determination:', model.score(x,y))\n",
    "# print('intercept:', model.intercept_)\n",
    "# print('slope:', model.coef_)\n",
    "\n",
    "y_pred = model.predict(x)\n",
    "\n",
    "plt.scatter(x, y)\n",
    "plt.gca().invert_yaxis()\n",
    "plt.plot(x, y_pred, color='red')\n",
    "plt.show()"
   ]
  },
  {
   "cell_type": "code",
   "execution_count": null,
   "id": "aee4b559",
   "metadata": {},
   "outputs": [],
   "source": []
  },
  {
   "cell_type": "markdown",
   "id": "141b5436",
   "metadata": {},
   "source": [
    "# Plot Races by Year"
   ]
  },
  {
   "cell_type": "code",
   "execution_count": 25,
   "id": "1b48253c",
   "metadata": {},
   "outputs": [
    {
     "data": {
      "image/png": "[encoded data removed]",
      "text/plain": [
       "<Figure size 432x288 with 1 Axes>"
      ]
     },
     "metadata": {
      "needs_background": "light"
     },
     "output_type": "display_data"
    }
   ],
   "source": [
    "# 2021 races\n",
    "#df_race_2021.to_numpy\n",
    "distance_number = df_race_2021.loc[:, 'distance'].values\n",
    "pace_number = df_race_2021.loc[: , 'Pace'].values\n",
    "plt.scatter(distance_number, pace_number, c='y', label='2021')\n",
    "#plt.scatter(distance_number, pace_number, c='k',)\n",
    "\n",
    "# 2020 races\n",
    "# df_race_2020.to_numpy\n",
    "dist_race_2020 = df_race_2020.loc[:, 'distance'].values\n",
    "pace_race_2020 = df_race_2020.loc[:, 'Pace'].values\n",
    "plt.scatter(dist_race_2020, pace_race_2020, c='r', label='2020')\n",
    "# plt.scatter(dist_race_2020, pace_race_2020, c='k')\n",
    "\n",
    "# 2019 races\n",
    "# df_race_2019.to_numpy\n",
    "dist_race_2019 = df_race_2019.loc[:, 'distance'].values\n",
    "pace_race_2019 = df_race_2019.loc[:, 'Pace'].values\n",
    "plt.scatter(dist_race_2019, pace_race_2019, c='k', label='2019')\n",
    "\n",
    "# format graph\n",
    "plt.xlim(-2, 20)\n",
    "plt.ylim(5, 10)\n",
    "plt.gca().invert_yaxis()\n",
    "plt.title('Races by Year: Pace over Distance')\n",
    "plt.xlim(2.9, 27)\n",
    "plt.xlabel('Distance')\n",
    "plt.ylabel('Minutes per Mile')\n",
    "plt.legend(loc=\"upper right\")\n",
    "\n",
    "\n",
    "plt.yticks([5,6,7,8,9,10], ['5:00', '6:00', '7:00', '8:00', '9:00', '10:00' ], rotation=20)  # Set text labels and properties.\n",
    "\n",
    "plt.xticks([3, 6.2, 9.3, 13.1, 26.2], ['5K', '10K', '15K', 'Half Marathon', 'Marathon'], rotation=20)  # Set text labels and properties\n",
    "\n",
    "plt.savefig(\"report.png\")"
   ]
  },
  {
   "cell_type": "code",
   "execution_count": null,
   "id": "19d7d5ca",
   "metadata": {},
   "outputs": [],
   "source": []
  },
  {
   "cell_type": "markdown",
   "id": "e9a26893",
   "metadata": {},
   "source": [
    "# Running Statistics"
   ]
  },
  {
   "cell_type": "code",
   "execution_count": 26,
   "id": "14f89caf",
   "metadata": {},
   "outputs": [
    {
     "name": "stdout",
     "output_type": "stream",
     "text": [
      "Avg Distance all races: 15 miles\n",
      "Avg Pace all races: 8.25\n",
      "Standard Deviation Pace all races: 2.2420276759964977\n",
      "Standard Deviation Distance all races: 13.525887736235816\n"
     ]
    }
   ],
   "source": [
    "x = np.array([df_all_races['distance']])\n",
    "y = np.array([df_all_races['Pace']])\n",
    "\n",
    "# gathered from x.mean(), y.mean()\n",
    "avg_race_pace = '8.25'\n",
    "avg_race_dist = '15 miles'\n",
    "\n",
    "# Converted 8.42 minutes, to minutes per mile: (.42 * 60) / 100\n",
    "print(\"Avg Distance all races: \" + avg_race_dist)\n",
    "print(\"Avg Pace all races: \" + avg_race_pace)\n",
    "print(\"Standard Deviation Pace all races: \" + str(y.std()))\n",
    "print(\"Standard Deviation Distance all races: \" + str(x.std()))\n"
   ]
  },
  {
   "cell_type": "code",
   "execution_count": null,
   "id": "5a018677",
   "metadata": {},
   "outputs": [],
   "source": []
  },
  {
   "cell_type": "markdown",
   "id": "02f08c5a",
   "metadata": {},
   "source": []
  },
  {
   "cell_type": "markdown",
   "id": "97ad6090",
   "metadata": {},
   "source": [
    "# Plot Training, plot training and races together"
   ]
  },
  {
   "cell_type": "code",
   "execution_count": 27,
   "id": "253ec8ec",
   "metadata": {},
   "outputs": [
    {
     "data": {
      "text/plain": [
       "283    0.70\n",
       "119    2.84\n",
       "188    1.57\n",
       "56     4.26\n",
       "196    1.40\n",
       "       ... \n",
       "14     9.10\n",
       "59     4.19\n",
       "157    2.22\n",
       "41     5.06\n",
       "139    2.32\n",
       "Name: distance, Length: 298, dtype: float64"
      ]
     },
     "execution_count": 27,
     "metadata": {},
     "output_type": "execute_result"
    }
   ],
   "source": [
    "df_all_training['distance']"
   ]
  },
  {
   "cell_type": "code",
   "execution_count": 28,
   "id": "ca0ad9c4",
   "metadata": {},
   "outputs": [],
   "source": [
    "def plot_all_training():\n",
    "    df_all_training.to_numpy\n",
    "    training_distance = df_all_training.loc[:, 'distance'].values\n",
    "    training_pace_num = df_all_training.loc[:, 'Pace'].values\n",
    "    # plt.gca().invert_yaxis()\n",
    "    plt.scatter(training_distance, training_pace_num, c='y', label='Training')"
   ]
  },
  {
   "cell_type": "code",
   "execution_count": 82,
   "id": "19b922a2",
   "metadata": {},
   "outputs": [
    {
     "data": {
      "image/png": "[encoded data removed]",
      "text/plain": [
       "<Figure size 432x288 with 1 Axes>"
      ]
     },
     "metadata": {
      "needs_background": "light"
     },
     "output_type": "display_data"
    }
   ],
   "source": [
    "plot_all_training()\n",
    "plot_all_races()"
   ]
  },
  {
   "cell_type": "code",
   "execution_count": null,
   "id": "5a3db5af",
   "metadata": {},
   "outputs": [],
   "source": []
  },
  {
   "cell_type": "markdown",
   "id": "01075f19",
   "metadata": {},
   "source": [
    "# Metrics: Avg Race Pace, Avg Training Pace, Avg Distance Race, Avg Distance Mile"
   ]
  },
  {
   "cell_type": "code",
   "execution_count": null,
   "id": "52b177a3",
   "metadata": {},
   "outputs": [],
   "source": []
  },
  {
   "cell_type": "code",
   "execution_count": null,
   "id": "803829b8",
   "metadata": {},
   "outputs": [],
   "source": []
  },
  {
   "cell_type": "code",
   "execution_count": null,
   "id": "e6026158",
   "metadata": {},
   "outputs": [],
   "source": []
  }
 ],
 "metadata": {
  "kernelspec": {
   "display_name": "Python 3 (ipykernel)",
   "language": "python",
   "name": "python3"
  },
  "language_info": {
   "codemirror_mode": {
    "name": "ipython",
    "version": 3
   },
   "file_extension": ".py",
   "mimetype": "text/x-python",
   "name": "python",
   "nbconvert_exporter": "python",
   "pygments_lexer": "ipython3",
   "version": "3.8.8"
  }
 },
 "nbformat": 4,
 "nbformat_minor": 5
}
