{
 "cells": [
  {
   "cell_type": "code",
   "execution_count": null,
   "id": "02f6e92d",
   "metadata": {},
   "outputs": [],
   "source": [
    "import matplotlib.pyplot as plt\n",
    "activities = [42, 46, 13, 16, 29, 52, \n",
    "              67, 27, 35, 38, 64, 76]\n",
    "\n",
    "months = ['Apr', 'Aug', 'Dec', 'Feb', 'Jan', 'Jul', \n",
    "          'Jun', 'Mar', 'May', 'Nov', 'Oct', 'Sep']\n",
    "\n",
    "# explode the highest month Sept\n",
    "exp = [0, 0, 0, 0, 0, 0, 0, 0, 0, 0, 0, 0.2]\n",
    "    \n",
    "plt.pie(activities, labels = months, explode = exp)\n",
    "plt.show()"
   ]
  },
  {
   "cell_type": "code",
   "execution_count": null,
   "id": "5e976ae8",
   "metadata": {},
   "outputs": [],
   "source": []
  },
  {
   "cell_type": "code",
   "execution_count": null,
   "id": "d973f1c5",
   "metadata": {},
   "outputs": [],
   "source": []
  }
 ],
 "metadata": {
  "kernelspec": {
   "display_name": "Python 3",
   "language": "python",
   "name": "python3"
  },
  "language_info": {
   "codemirror_mode": {
    "name": "ipython",
    "version": 3
   },
   "file_extension": ".py",
   "mimetype": "text/x-python",
   "name": "python",
   "nbconvert_exporter": "python",
   "pygments_lexer": "ipython3",
   "version": "3.8.8"
  }
 },
 "nbformat": 4,
 "nbformat_minor": 5
}
