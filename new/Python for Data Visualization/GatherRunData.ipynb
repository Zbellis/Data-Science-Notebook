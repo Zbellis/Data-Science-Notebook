{
 "cells": [
  {
   "cell_type": "markdown",
   "id": "4b783776",
   "metadata": {},
   "source": [
    "## I. Gather Running Data\n",
    "\n",
    "\n",
    "### 1) Copy Runs.js \n",
    "https://github.com/Zbellis/Python-Learning-Path/blob/main/runs.js\n",
    "\n",
    "    \n",
    "\n",
    "### 2) Into the Console of [Your Name]'s Strava Profile\n",
    "###### you can filter by sport type and search by keyword. If you want to use these filters before you export your data, so you get a subset of your workouts, now is the time to use them.\n",
    "https://www.strava.com/athlete/training\n",
    "CTRL + SHIFT + I\n",
    "\n",
    "\n",
    "#### 3) Convert JSON to Excel\n",
    "https://konklone.io/json/"
   ]
  },
  {
   "cell_type": "markdown",
   "id": "c83f3ad0",
   "metadata": {},
   "source": [
    "# II. Pandas"
   ]
  },
  {
   "cell_type": "markdown",
   "id": "476a8745",
   "metadata": {},
   "source": [
    "### 1) Load Data"
   ]
  },
  {
   "cell_type": "code",
   "execution_count": null,
   "id": "d1e69663",
   "metadata": {},
   "outputs": [],
   "source": []
  }
 ],
 "metadata": {
  "kernelspec": {
   "display_name": "Python 3",
   "language": "python",
   "name": "python3"
  },
  "language_info": {
   "codemirror_mode": {
    "name": "ipython",
    "version": 3
   },
   "file_extension": ".py",
   "mimetype": "text/x-python",
   "name": "python",
   "nbconvert_exporter": "python",
   "pygments_lexer": "ipython3",
   "version": "3.8.8"
  }
 },
 "nbformat": 4,
 "nbformat_minor": 5
}
