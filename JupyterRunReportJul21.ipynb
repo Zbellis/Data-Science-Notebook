{
 "cells": [
  {
   "cell_type": "markdown",
   "id": "0e089e2c",
   "metadata": {},
   "source": [
    "## I. Gather Running Data\n",
    "\n",
    "\n",
    "### 1) Copy Runs.js \n",
    "https://github.com/Zbellis/Python-Learning-Path/blob/main/runs.js\n",
    "\n",
    "    \n",
    "\n",
    "### 2) Into the Console of [Your Name]'s Strava Profile\n",
    "###### you can filter by sport type and search by keyword. If you want to use these filters before you export your data, so you get a subset of your workouts, now is the time to use them.\n",
    "https://www.strava.com/athlete/training\n",
    "CTRL + SHIFT + I\n",
    "\n",
    "\n",
    "#### 3) Convert JSON to Excel\n",
    "https://konklone.io/json/"
   ]
  },
  {
   "cell_type": "markdown",
   "id": "6f9df030",
   "metadata": {},
   "source": [
    "# II. Pandas"
   ]
  },
  {
   "cell_type": "markdown",
   "id": "7d7f1094",
   "metadata": {},
   "source": [
    "### 1) Load Data"
   ]
  },
  {
   "cell_type": "code",
   "execution_count": null,
   "id": "93f3dbe8",
   "metadata": {},
   "outputs": [],
   "source": [
    "import pandas\n",
    "\n",
    "\n",
    "filename = 'data/run_report_Jul1.xlsx'\n",
    "df ="
   ]
  }
 ],
 "metadata": {
  "kernelspec": {
   "display_name": "Python 3",
   "language": "python",
   "name": "python3"
  },
  "language_info": {
   "codemirror_mode": {
    "name": "ipython",
    "version": 3
   },
   "file_extension": ".py",
   "mimetype": "text/x-python",
   "name": "python",
   "nbconvert_exporter": "python",
   "pygments_lexer": "ipython3",
   "version": "3.8.8"
  }
 },
 "nbformat": 4,
 "nbformat_minor": 5
}
