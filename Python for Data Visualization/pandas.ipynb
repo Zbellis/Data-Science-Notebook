{
 "cells": [
  {
   "cell_type": "code",
   "execution_count": 1,
   "id": "b4a89a5f",
   "metadata": {},
   "outputs": [],
   "source": [
    "import os\n",
    "import pandas as pd"
   ]
  },
  {
   "cell_type": "markdown",
   "id": "4fb6b1a0",
   "metadata": {},
   "source": [
    "# 1) Load Data and Sort By Date."
   ]
  },
  {
   "cell_type": "code",
   "execution_count": 135,
   "id": "25ddc57b",
   "metadata": {
    "scrolled": false
   },
   "outputs": [],
   "source": [
    "filename = '/Users/zacharyellis/Desktop/updated_runs.xlsx'\n",
    "df = pd.read_excel(filename)\n",
    "df['start_date'] = pd.to_datetime(df['start_date'])\n",
    "df = df.sort_values(by=['start_date'], ascending=False)\n",
    "\n"
   ]
  },
  {
   "cell_type": "markdown",
   "id": "9f2013f8",
   "metadata": {},
   "source": [
    "# 2) Optional (Filter Data) "
   ]
  },
  {
   "cell_type": "code",
   "execution_count": 139,
   "id": "f471dd71",
   "metadata": {},
   "outputs": [
    {
     "data": {
      "text/html": [
       "<div>\n",
       "<style scoped>\n",
       "    .dataframe tbody tr th:only-of-type {\n",
       "        vertical-align: middle;\n",
       "    }\n",
       "\n",
       "    .dataframe tbody tr th {\n",
       "        vertical-align: top;\n",
       "    }\n",
       "\n",
       "    .dataframe thead th {\n",
       "        text-align: right;\n",
       "    }\n",
       "</style>\n",
       "<table border=\"1\" class=\"dataframe\">\n",
       "  <thead>\n",
       "    <tr style=\"text-align: right;\">\n",
       "      <th></th>\n",
       "      <th>id</th>\n",
       "      <th>name</th>\n",
       "      <th>type</th>\n",
       "      <th>start_date</th>\n",
       "      <th>start_day</th>\n",
       "      <th>distance</th>\n",
       "      <th>moving_time</th>\n",
       "      <th>elevation_gain</th>\n",
       "    </tr>\n",
       "  </thead>\n",
       "  <tbody>\n",
       "    <tr>\n",
       "      <th>71</th>\n",
       "      <td>5542735380</td>\n",
       "      <td>Morning Run</td>\n",
       "      <td>Run</td>\n",
       "      <td>2021-06-25</td>\n",
       "      <td>Fri</td>\n",
       "      <td>0.00</td>\n",
       "      <td>0s</td>\n",
       "      <td>0</td>\n",
       "    </tr>\n",
       "    <tr>\n",
       "      <th>139</th>\n",
       "      <td>4764775650</td>\n",
       "      <td>Morning Run</td>\n",
       "      <td>Run</td>\n",
       "      <td>2021-02-10</td>\n",
       "      <td>Wed</td>\n",
       "      <td>0.32</td>\n",
       "      <td>02:30:00</td>\n",
       "      <td>7</td>\n",
       "    </tr>\n",
       "    <tr>\n",
       "      <th>220</th>\n",
       "      <td>4691179649</td>\n",
       "      <td>Morning Run</td>\n",
       "      <td>Run</td>\n",
       "      <td>2021-01-18</td>\n",
       "      <td>Mon</td>\n",
       "      <td>0.62</td>\n",
       "      <td>06:07:00</td>\n",
       "      <td>26</td>\n",
       "    </tr>\n",
       "    <tr>\n",
       "      <th>10</th>\n",
       "      <td>4193354015</td>\n",
       "      <td>Morning Run</td>\n",
       "      <td>Run</td>\n",
       "      <td>2020-10-14</td>\n",
       "      <td>Wed</td>\n",
       "      <td>0.68</td>\n",
       "      <td>06:52:00</td>\n",
       "      <td>21</td>\n",
       "    </tr>\n",
       "    <tr>\n",
       "      <th>208</th>\n",
       "      <td>3838881151</td>\n",
       "      <td>Morning Run</td>\n",
       "      <td>Run</td>\n",
       "      <td>2020-07-30</td>\n",
       "      <td>Thu</td>\n",
       "      <td>0.00</td>\n",
       "      <td>06:40:00</td>\n",
       "      <td>0</td>\n",
       "    </tr>\n",
       "    <tr>\n",
       "      <th>109</th>\n",
       "      <td>3345366813</td>\n",
       "      <td>Morning Run</td>\n",
       "      <td>Run</td>\n",
       "      <td>2020-04-24</td>\n",
       "      <td>Fri</td>\n",
       "      <td>0.52</td>\n",
       "      <td>04:24:00</td>\n",
       "      <td>0</td>\n",
       "    </tr>\n",
       "  </tbody>\n",
       "</table>\n",
       "</div>"
      ],
      "text/plain": [
       "             id         name type start_date start_day  distance moving_time  \\\n",
       "71   5542735380  Morning Run  Run 2021-06-25       Fri      0.00          0s   \n",
       "139  4764775650  Morning Run  Run 2021-02-10       Wed      0.32    02:30:00   \n",
       "220  4691179649  Morning Run  Run 2021-01-18       Mon      0.62    06:07:00   \n",
       "10   4193354015  Morning Run  Run 2020-10-14       Wed      0.68    06:52:00   \n",
       "208  3838881151  Morning Run  Run 2020-07-30       Thu      0.00    06:40:00   \n",
       "109  3345366813  Morning Run  Run 2020-04-24       Fri      0.52    04:24:00   \n",
       "\n",
       "     elevation_gain  \n",
       "71                0  \n",
       "139               7  \n",
       "220              26  \n",
       "10               21  \n",
       "208               0  \n",
       "109               0  "
      ]
     },
     "execution_count": 139,
     "metadata": {},
     "output_type": "execute_result"
    }
   ],
   "source": [
    "name_filter = df['name'] == \"Morning Run\"\n",
    "distance_filter = df['distance'] < .69\n",
    "df.loc[distance_filter & name_filter, :]\n",
    "\n"
   ]
  },
  {
   "cell_type": "markdown",
   "id": "291f186c",
   "metadata": {},
   "source": [
    "# 3) Aggregate Functions\n"
   ]
  },
  {
   "cell_type": "code",
   "execution_count": 112,
   "id": "19fe247b",
   "metadata": {
    "scrolled": false
   },
   "outputs": [
    {
     "data": {
      "text/plain": [
       "0.0"
      ]
     },
     "execution_count": 112,
     "metadata": {},
     "output_type": "execute_result"
    }
   ],
   "source": [
    "df['distance'].min()"
   ]
  },
  {
   "cell_type": "markdown",
   "id": "e0cd2757",
   "metadata": {},
   "source": [
    "# Ways to convert to numpy  "
   ]
  },
  {
   "cell_type": "code",
   "execution_count": 119,
   "id": "a47cf51e",
   "metadata": {},
   "outputs": [
    {
     "data": {
      "text/plain": [
       "<bound method DataFrame.to_dict of              id                      name type start_date start_day  distance  \\\n",
       "157  5834648518                        CD  Run 2021-08-22       Sun      1.41   \n",
       "158  5834491757               Main event   Run 2021-08-22       Sun      4.72   \n",
       "159  5834199521                   Warm up  Run 2021-08-22       Sun      2.08   \n",
       "160  5817861567               Morning Run  Run 2021-08-19       Thu      3.21   \n",
       "161  5807104587               Morning Run  Run 2021-08-17       Tue      3.67   \n",
       "..          ...                       ...  ...        ...       ...       ...   \n",
       "32   2731365950               Sunday run   Run 2019-09-22       Sun      9.10   \n",
       "33   2719109752               Morning Run  Run 2019-09-18       Wed      4.19   \n",
       "34   2701774919  Thursday morning Run 1/2  Run 2019-09-12       Thu      2.22   \n",
       "35   2697896298              Tuesday 5 mi  Run 2019-09-10       Tue      5.06   \n",
       "36   2652800221            Monday morning  Run 2019-08-26       Mon      2.32   \n",
       "\n",
       "             moving_time  elevation_gain  \n",
       "157             16:47:00              43  \n",
       "158  1900-01-01 15:03:00             119  \n",
       "159             18:29:00              39  \n",
       "160  1900-01-01 08:54:00             100  \n",
       "161  1900-01-01 10:50:00             119  \n",
       "..                   ...             ...  \n",
       "32              01:11:00               0  \n",
       "33   1900-01-01 07:21:00               0  \n",
       "34   1900-01-01 01:21:00              46  \n",
       "35   1900-01-01 15:56:00               0  \n",
       "36              17:10:00              48  \n",
       "\n",
       "[237 rows x 8 columns]>"
      ]
     },
     "execution_count": 119,
     "metadata": {},
     "output_type": "execute_result"
    }
   ],
   "source": [
    "df.to_numpy()\n",
    "df.values\n",
    "df.to_dict"
   ]
  },
  {
   "cell_type": "markdown",
   "id": "87a104fc",
   "metadata": {},
   "source": [
    "# Export Pandas DataFrames to csv and excel files"
   ]
  },
  {
   "cell_type": "code",
   "execution_count": 127,
   "id": "eda4fe02",
   "metadata": {},
   "outputs": [],
   "source": [
    "os.getcwd()\n",
    "df.to_excel(excel_writer='python_export.xlsx', index=False)"
   ]
  },
  {
   "cell_type": "code",
   "execution_count": 128,
   "id": "551a6824",
   "metadata": {},
   "outputs": [
    {
     "data": {
      "text/html": [
       "<div>\n",
       "<style scoped>\n",
       "    .dataframe tbody tr th:only-of-type {\n",
       "        vertical-align: middle;\n",
       "    }\n",
       "\n",
       "    .dataframe tbody tr th {\n",
       "        vertical-align: top;\n",
       "    }\n",
       "\n",
       "    .dataframe thead th {\n",
       "        text-align: right;\n",
       "    }\n",
       "</style>\n",
       "<table border=\"1\" class=\"dataframe\">\n",
       "  <thead>\n",
       "    <tr style=\"text-align: right;\">\n",
       "      <th></th>\n",
       "      <th>id</th>\n",
       "      <th>name</th>\n",
       "      <th>type</th>\n",
       "      <th>start_date</th>\n",
       "      <th>start_day</th>\n",
       "      <th>distance</th>\n",
       "      <th>moving_time</th>\n",
       "      <th>elevation_gain</th>\n",
       "    </tr>\n",
       "  </thead>\n",
       "  <tbody>\n",
       "    <tr>\n",
       "      <th>157</th>\n",
       "      <td>5834648518</td>\n",
       "      <td>CD</td>\n",
       "      <td>Run</td>\n",
       "      <td>2021-08-22</td>\n",
       "      <td>Sun</td>\n",
       "      <td>1.41</td>\n",
       "      <td>16:47:00</td>\n",
       "      <td>43</td>\n",
       "    </tr>\n",
       "    <tr>\n",
       "      <th>158</th>\n",
       "      <td>5834491757</td>\n",
       "      <td>Main event</td>\n",
       "      <td>Run</td>\n",
       "      <td>2021-08-22</td>\n",
       "      <td>Sun</td>\n",
       "      <td>4.72</td>\n",
       "      <td>1900-01-01 15:03:00</td>\n",
       "      <td>119</td>\n",
       "    </tr>\n",
       "    <tr>\n",
       "      <th>159</th>\n",
       "      <td>5834199521</td>\n",
       "      <td>Warm up</td>\n",
       "      <td>Run</td>\n",
       "      <td>2021-08-22</td>\n",
       "      <td>Sun</td>\n",
       "      <td>2.08</td>\n",
       "      <td>18:29:00</td>\n",
       "      <td>39</td>\n",
       "    </tr>\n",
       "    <tr>\n",
       "      <th>160</th>\n",
       "      <td>5817861567</td>\n",
       "      <td>Morning Run</td>\n",
       "      <td>Run</td>\n",
       "      <td>2021-08-19</td>\n",
       "      <td>Thu</td>\n",
       "      <td>3.21</td>\n",
       "      <td>1900-01-01 08:54:00</td>\n",
       "      <td>100</td>\n",
       "    </tr>\n",
       "    <tr>\n",
       "      <th>161</th>\n",
       "      <td>5807104587</td>\n",
       "      <td>Morning Run</td>\n",
       "      <td>Run</td>\n",
       "      <td>2021-08-17</td>\n",
       "      <td>Tue</td>\n",
       "      <td>3.67</td>\n",
       "      <td>1900-01-01 10:50:00</td>\n",
       "      <td>119</td>\n",
       "    </tr>\n",
       "  </tbody>\n",
       "</table>\n",
       "</div>"
      ],
      "text/plain": [
       "             id         name type start_date start_day  distance  \\\n",
       "157  5834648518           CD  Run 2021-08-22       Sun      1.41   \n",
       "158  5834491757  Main event   Run 2021-08-22       Sun      4.72   \n",
       "159  5834199521      Warm up  Run 2021-08-22       Sun      2.08   \n",
       "160  5817861567  Morning Run  Run 2021-08-19       Thu      3.21   \n",
       "161  5807104587  Morning Run  Run 2021-08-17       Tue      3.67   \n",
       "\n",
       "             moving_time  elevation_gain  \n",
       "157             16:47:00              43  \n",
       "158  1900-01-01 15:03:00             119  \n",
       "159             18:29:00              39  \n",
       "160  1900-01-01 08:54:00             100  \n",
       "161  1900-01-01 10:50:00             119  "
      ]
     },
     "execution_count": 128,
     "metadata": {},
     "output_type": "execute_result"
    }
   ],
   "source": [
    "df.head()"
   ]
  },
  {
   "cell_type": "code",
   "execution_count": null,
   "id": "3464687b",
   "metadata": {},
   "outputs": [],
   "source": []
  }
 ],
 "metadata": {
  "kernelspec": {
   "display_name": "Python 3",
   "language": "python",
   "name": "python3"
  },
  "language_info": {
   "codemirror_mode": {
    "name": "ipython",
    "version": 3
   },
   "file_extension": ".py",
   "mimetype": "text/x-python",
   "name": "python",
   "nbconvert_exporter": "python",
   "pygments_lexer": "ipython3",
   "version": "3.8.8"
  }
 },
 "nbformat": 4,
 "nbformat_minor": 5
}
